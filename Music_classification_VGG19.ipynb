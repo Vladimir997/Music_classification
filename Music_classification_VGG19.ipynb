{
 "cells": [
  {
   "cell_type": "code",
   "execution_count": 6,
   "metadata": {
    "colab": {
     "base_uri": "https://localhost:8080/",
     "height": 34
    },
    "colab_type": "code",
    "id": "ykbEwgOobeOf",
    "outputId": "9f0c2c2f-4fd0-4448-d905-0e5364229f8d"
   },
   "outputs": [
    {
     "name": "stdout",
     "output_type": "stream",
     "text": [
      "Drive already mounted at /content/gdrive; to attempt to forcibly remount, call drive.mount(\"/content/gdrive\", force_remount=True).\n"
     ]
    }
   ],
   "source": [
    "from google.colab import drive\n",
    "drive.mount('/content/gdrive')"
   ]
  },
  {
   "cell_type": "code",
   "execution_count": 0,
   "metadata": {
    "colab": {},
    "colab_type": "code",
    "id": "WGokbmcB7ftN"
   },
   "outputs": [],
   "source": [
    "import numpy as np\n",
    "import matplotlib.pyplot as plt\n",
    "from PIL import Image\n",
    "from keras.applications import VGG19\n",
    "from keras.models import Sequential\n",
    "from keras import layers\n",
    "from keras import optimizers\n",
    "from keras.callbacks import ModelCheckpoint\n",
    "from keras.preprocessing.image import ImageDataGenerator"
   ]
  },
  {
   "cell_type": "code",
   "execution_count": 0,
   "metadata": {
    "colab": {},
    "colab_type": "code",
    "id": "3skAofIN8RtD"
   },
   "outputs": [],
   "source": [
    "path = 'gdrive/My Drive/music_classification/img_data_mel4'\n",
    "img = Image.open(path+'/train/blues/blues.00000.png')"
   ]
  },
  {
   "cell_type": "code",
   "execution_count": 9,
   "metadata": {
    "colab": {
     "base_uri": "https://localhost:8080/",
     "height": 34
    },
    "colab_type": "code",
    "id": "UuGnG5s1nxVB",
    "outputId": "2ac4e060-dbaf-4209-b2df-08a7115fb42b"
   },
   "outputs": [
    {
     "data": {
      "text/plain": [
       "(669, 217)"
      ]
     },
     "execution_count": 9,
     "metadata": {
      "tags": []
     },
     "output_type": "execute_result"
    }
   ],
   "source": [
    "img.size"
   ]
  },
  {
   "cell_type": "code",
   "execution_count": 0,
   "metadata": {
    "colab": {},
    "colab_type": "code",
    "id": "2mVCV3P_vLCW"
   },
   "outputs": [],
   "source": [
    "conv_base = VGG19(weights='imagenet', include_top=False, input_shape=(669, 217, 3))"
   ]
  },
  {
   "cell_type": "code",
   "execution_count": 11,
   "metadata": {
    "colab": {
     "base_uri": "https://localhost:8080/",
     "height": 901
    },
    "colab_type": "code",
    "id": "jLkdR8eWvqQf",
    "outputId": "ee5e1e37-f6ae-4140-cf72-f8d824b89623"
   },
   "outputs": [
    {
     "name": "stdout",
     "output_type": "stream",
     "text": [
      "Model: \"vgg19\"\n",
      "_________________________________________________________________\n",
      "Layer (type)                 Output Shape              Param #   \n",
      "=================================================================\n",
      "input_2 (InputLayer)         (None, 669, 217, 3)       0         \n",
      "_________________________________________________________________\n",
      "block1_conv1 (Conv2D)        (None, 669, 217, 64)      1792      \n",
      "_________________________________________________________________\n",
      "block1_conv2 (Conv2D)        (None, 669, 217, 64)      36928     \n",
      "_________________________________________________________________\n",
      "block1_pool (MaxPooling2D)   (None, 334, 108, 64)      0         \n",
      "_________________________________________________________________\n",
      "block2_conv1 (Conv2D)        (None, 334, 108, 128)     73856     \n",
      "_________________________________________________________________\n",
      "block2_conv2 (Conv2D)        (None, 334, 108, 128)     147584    \n",
      "_________________________________________________________________\n",
      "block2_pool (MaxPooling2D)   (None, 167, 54, 128)      0         \n",
      "_________________________________________________________________\n",
      "block3_conv1 (Conv2D)        (None, 167, 54, 256)      295168    \n",
      "_________________________________________________________________\n",
      "block3_conv2 (Conv2D)        (None, 167, 54, 256)      590080    \n",
      "_________________________________________________________________\n",
      "block3_conv3 (Conv2D)        (None, 167, 54, 256)      590080    \n",
      "_________________________________________________________________\n",
      "block3_conv4 (Conv2D)        (None, 167, 54, 256)      590080    \n",
      "_________________________________________________________________\n",
      "block3_pool (MaxPooling2D)   (None, 83, 27, 256)       0         \n",
      "_________________________________________________________________\n",
      "block4_conv1 (Conv2D)        (None, 83, 27, 512)       1180160   \n",
      "_________________________________________________________________\n",
      "block4_conv2 (Conv2D)        (None, 83, 27, 512)       2359808   \n",
      "_________________________________________________________________\n",
      "block4_conv3 (Conv2D)        (None, 83, 27, 512)       2359808   \n",
      "_________________________________________________________________\n",
      "block4_conv4 (Conv2D)        (None, 83, 27, 512)       2359808   \n",
      "_________________________________________________________________\n",
      "block4_pool (MaxPooling2D)   (None, 41, 13, 512)       0         \n",
      "_________________________________________________________________\n",
      "block5_conv1 (Conv2D)        (None, 41, 13, 512)       2359808   \n",
      "_________________________________________________________________\n",
      "block5_conv2 (Conv2D)        (None, 41, 13, 512)       2359808   \n",
      "_________________________________________________________________\n",
      "block5_conv3 (Conv2D)        (None, 41, 13, 512)       2359808   \n",
      "_________________________________________________________________\n",
      "block5_conv4 (Conv2D)        (None, 41, 13, 512)       2359808   \n",
      "_________________________________________________________________\n",
      "block5_pool (MaxPooling2D)   (None, 20, 6, 512)        0         \n",
      "=================================================================\n",
      "Total params: 20,024,384\n",
      "Trainable params: 20,024,384\n",
      "Non-trainable params: 0\n",
      "_________________________________________________________________\n"
     ]
    }
   ],
   "source": [
    "conv_base.summary()"
   ]
  },
  {
   "cell_type": "code",
   "execution_count": 12,
   "metadata": {
    "colab": {
     "base_uri": "https://localhost:8080/",
     "height": 54
    },
    "colab_type": "code",
    "id": "xW--O7T1IDn8",
    "outputId": "cee1af00-ce77-4f7a-c4e6-3e71e14388a6"
   },
   "outputs": [
    {
     "data": {
      "text/plain": [
       "\"set_trainable = False\\nfor layer in conv_base.layers:\\n    if layer.name == 'block5_conv1':\\n        set_trainable = True\\n    if set_trainable:\\n        layer.trainable = True\\n    else:\\n        layer.trainable = False\""
      ]
     },
     "execution_count": 12,
     "metadata": {
      "tags": []
     },
     "output_type": "execute_result"
    }
   ],
   "source": [
    "conv_base.trainable = False\n",
    "'''set_trainable = False\n",
    "for layer in conv_base.layers:\n",
    "    if layer.name == 'block5_conv1':\n",
    "        set_trainable = True\n",
    "    if set_trainable:\n",
    "        layer.trainable = True\n",
    "    else:\n",
    "        layer.trainable = False'''"
   ]
  },
  {
   "cell_type": "code",
   "execution_count": 141,
   "metadata": {
    "colab": {
     "base_uri": "https://localhost:8080/",
     "height": 68
    },
    "colab_type": "code",
    "id": "iBbszjR_9IaX",
    "outputId": "96ac9e5b-1f74-4228-fe51-3553a54b6e88"
   },
   "outputs": [
    {
     "name": "stdout",
     "output_type": "stream",
     "text": [
      "Found 640 images belonging to 10 classes.\n",
      "Found 160 images belonging to 10 classes.\n",
      "Found 200 images belonging to 10 classes.\n"
     ]
    }
   ],
   "source": [
    "train_datagen = ImageDataGenerator(rescale=1./255, validation_split=0.2)\n",
    "train_generator = train_datagen.flow_from_directory(path+'/train', target_size = (669, 217), batch_size=40, class_mode='categorical', subset='training')\n",
    "val_generator = train_datagen.flow_from_directory(path+'/train', target_size = (669, 217), batch_size=40, class_mode='categorical', subset='validation')\n",
    "test_datagen = ImageDataGenerator(rescale=1./255)\n",
    "test_generator = test_datagen.flow_from_directory(path+'/test', target_size = (669, 217), batch_size=40, class_mode='categorical')"
   ]
  },
  {
   "cell_type": "code",
   "execution_count": 0,
   "metadata": {
    "colab": {},
    "colab_type": "code",
    "id": "T6bbREclJc7k"
   },
   "outputs": [],
   "source": [
    "model = Sequential()\n",
    "model.add(conv_base)\n",
    "model.add(layers.Flatten())\n",
    "model.add(layers.Dense(512, activation='relu'))\n",
    "model.add(layers.Dropout(0.1))\n",
    "#model.add(layers.Dense(256, activation='tanh'))\n",
    "model.add(layers.Dense(256, activation='relu'))\n",
    "#model.add(layers.Dropout(0.3))\n",
    "#model.add(layers.Dense(128, activation='relu'))\n",
    "model.add(layers.Dropout(0.1))\n",
    "model.add(layers.Dense(64, activation='relu'))\n",
    "#model.add(layers.Dropout(0.1))\n",
    "#model.add(layers.Dense(32, activation='relu'))\n",
    "model.add(layers.Dense(10, activation='softmax'))\n",
    "\n",
    "model.compile(optimizer=optimizers.Adam(lr=0.00005), loss='categorical_crossentropy', metrics=['accuracy'])"
   ]
  },
  {
   "cell_type": "code",
   "execution_count": 143,
   "metadata": {
    "colab": {
     "base_uri": "https://localhost:8080/",
     "height": 1000
    },
    "colab_type": "code",
    "id": "201HkUFRAgP5",
    "outputId": "dabcdca6-8bd8-4985-dece-50981bec2c13"
   },
   "outputs": [
    {
     "name": "stdout",
     "output_type": "stream",
     "text": [
      "Epoch 1/50\n",
      " - 18s - loss: 2.2857 - acc: 0.1266 - val_loss: 2.0917 - val_acc: 0.2438\n",
      "Epoch 2/50\n",
      " - 15s - loss: 1.9772 - acc: 0.3016 - val_loss: 1.9018 - val_acc: 0.3562\n",
      "Epoch 3/50\n",
      " - 15s - loss: 1.7986 - acc: 0.3562 - val_loss: 1.7171 - val_acc: 0.4688\n",
      "Epoch 4/50\n",
      " - 15s - loss: 1.6171 - acc: 0.4141 - val_loss: 1.6201 - val_acc: 0.4688\n",
      "Epoch 5/50\n",
      " - 15s - loss: 1.4961 - acc: 0.4937 - val_loss: 1.5829 - val_acc: 0.4750\n",
      "Epoch 6/50\n",
      " - 15s - loss: 1.3787 - acc: 0.5484 - val_loss: 1.5564 - val_acc: 0.4563\n",
      "Epoch 7/50\n",
      " - 15s - loss: 1.3166 - acc: 0.5484 - val_loss: 1.4793 - val_acc: 0.4562\n",
      "Epoch 8/50\n",
      " - 15s - loss: 1.2376 - acc: 0.5797 - val_loss: 1.3714 - val_acc: 0.5500\n",
      "Epoch 9/50\n",
      " - 15s - loss: 1.1507 - acc: 0.6156 - val_loss: 1.4655 - val_acc: 0.4813\n",
      "Epoch 10/50\n",
      " - 15s - loss: 1.0831 - acc: 0.6297 - val_loss: 1.4208 - val_acc: 0.5250\n",
      "Epoch 11/50\n",
      " - 15s - loss: 1.0754 - acc: 0.6438 - val_loss: 1.4010 - val_acc: 0.5000\n",
      "Epoch 12/50\n",
      " - 15s - loss: 1.0412 - acc: 0.6547 - val_loss: 1.3423 - val_acc: 0.5500\n",
      "Epoch 13/50\n",
      " - 14s - loss: 0.9712 - acc: 0.6734 - val_loss: 1.2913 - val_acc: 0.5750\n",
      "Epoch 14/50\n",
      " - 15s - loss: 0.9192 - acc: 0.7172 - val_loss: 1.4243 - val_acc: 0.5500\n",
      "Epoch 15/50\n",
      " - 15s - loss: 0.8915 - acc: 0.7125 - val_loss: 1.3744 - val_acc: 0.5250\n",
      "Epoch 16/50\n",
      " - 15s - loss: 0.8260 - acc: 0.7563 - val_loss: 1.3567 - val_acc: 0.5437\n",
      "Epoch 17/50\n",
      " - 14s - loss: 0.8321 - acc: 0.7219 - val_loss: 1.2504 - val_acc: 0.5687\n",
      "Epoch 18/50\n",
      " - 14s - loss: 0.7709 - acc: 0.7484 - val_loss: 1.2722 - val_acc: 0.5875\n",
      "Epoch 19/50\n",
      " - 14s - loss: 0.7540 - acc: 0.7625 - val_loss: 1.2929 - val_acc: 0.5562\n",
      "Epoch 20/50\n",
      " - 15s - loss: 0.6917 - acc: 0.7766 - val_loss: 1.2354 - val_acc: 0.5938\n",
      "Epoch 21/50\n",
      " - 14s - loss: 0.6957 - acc: 0.7859 - val_loss: 1.2684 - val_acc: 0.5500\n",
      "Epoch 22/50\n",
      " - 15s - loss: 0.6692 - acc: 0.7797 - val_loss: 1.2967 - val_acc: 0.5625\n",
      "Epoch 23/50\n",
      " - 15s - loss: 0.6800 - acc: 0.7813 - val_loss: 1.3219 - val_acc: 0.5375\n",
      "Epoch 24/50\n",
      " - 14s - loss: 0.6180 - acc: 0.8141 - val_loss: 1.2098 - val_acc: 0.5875\n",
      "Epoch 25/50\n",
      " - 14s - loss: 0.5695 - acc: 0.8344 - val_loss: 1.2018 - val_acc: 0.6125\n",
      "Epoch 26/50\n",
      " - 14s - loss: 0.5296 - acc: 0.8406 - val_loss: 1.2140 - val_acc: 0.6063\n",
      "Epoch 27/50\n",
      " - 15s - loss: 0.5342 - acc: 0.8531 - val_loss: 1.2682 - val_acc: 0.6063\n",
      "Epoch 28/50\n",
      " - 15s - loss: 0.5166 - acc: 0.8516 - val_loss: 1.1819 - val_acc: 0.6250\n",
      "Epoch 29/50\n",
      " - 14s - loss: 0.4976 - acc: 0.8656 - val_loss: 1.2531 - val_acc: 0.5875\n",
      "Epoch 30/50\n",
      " - 15s - loss: 0.4597 - acc: 0.8734 - val_loss: 1.2192 - val_acc: 0.6062\n",
      "Epoch 31/50\n",
      " - 15s - loss: 0.4618 - acc: 0.8797 - val_loss: 1.2582 - val_acc: 0.5750\n",
      "Epoch 32/50\n",
      " - 14s - loss: 0.4259 - acc: 0.8859 - val_loss: 1.1731 - val_acc: 0.6188\n",
      "Epoch 33/50\n",
      " - 14s - loss: 0.3886 - acc: 0.9094 - val_loss: 1.2282 - val_acc: 0.5875\n",
      "Epoch 34/50\n",
      " - 14s - loss: 0.3790 - acc: 0.9000 - val_loss: 1.3222 - val_acc: 0.5687\n",
      "Epoch 35/50\n",
      " - 15s - loss: 0.3985 - acc: 0.8781 - val_loss: 1.3256 - val_acc: 0.5812\n",
      "Epoch 36/50\n",
      " - 15s - loss: 0.3650 - acc: 0.9141 - val_loss: 1.1611 - val_acc: 0.6312\n",
      "Epoch 37/50\n",
      " - 14s - loss: 0.3455 - acc: 0.9078 - val_loss: 1.1983 - val_acc: 0.6250\n",
      "Epoch 38/50\n",
      " - 15s - loss: 0.2934 - acc: 0.9422 - val_loss: 1.2827 - val_acc: 0.5938\n",
      "Epoch 39/50\n",
      " - 15s - loss: 0.3171 - acc: 0.9172 - val_loss: 1.3050 - val_acc: 0.5938\n",
      "Epoch 40/50\n",
      " - 15s - loss: 0.2773 - acc: 0.9328 - val_loss: 1.1898 - val_acc: 0.6250\n",
      "Epoch 41/50\n",
      " - 14s - loss: 0.2943 - acc: 0.9250 - val_loss: 1.2493 - val_acc: 0.6000\n",
      "Epoch 42/50\n",
      " - 14s - loss: 0.2934 - acc: 0.9344 - val_loss: 1.2830 - val_acc: 0.6250\n",
      "Epoch 43/50\n",
      " - 14s - loss: 0.2397 - acc: 0.9547 - val_loss: 1.3722 - val_acc: 0.5937\n",
      "Epoch 44/50\n",
      " - 14s - loss: 0.2700 - acc: 0.9391 - val_loss: 1.2896 - val_acc: 0.6000\n",
      "Epoch 45/50\n",
      " - 14s - loss: 0.2416 - acc: 0.9438 - val_loss: 1.3166 - val_acc: 0.6063\n",
      "Epoch 46/50\n",
      " - 14s - loss: 0.2195 - acc: 0.9563 - val_loss: 1.2150 - val_acc: 0.6250\n",
      "Epoch 47/50\n",
      " - 15s - loss: 0.2290 - acc: 0.9547 - val_loss: 1.3466 - val_acc: 0.5937\n",
      "Epoch 48/50\n",
      " - 15s - loss: 0.2171 - acc: 0.9578 - val_loss: 1.2466 - val_acc: 0.6125\n",
      "Epoch 49/50\n",
      " - 15s - loss: 0.1956 - acc: 0.9672 - val_loss: 1.2238 - val_acc: 0.6250\n",
      "Epoch 50/50\n",
      " - 15s - loss: 0.2066 - acc: 0.9500 - val_loss: 1.1867 - val_acc: 0.6125\n"
     ]
    }
   ],
   "source": [
    "history = model.fit_generator(train_generator, steps_per_epoch=16, epochs=50, validation_data=val_generator, validation_steps=4, verbose=2,\n",
    "                              callbacks=[ModelCheckpoint(path+'best_model.hdf5', monitor='val_acc', save_best_only=True), \n",
    "                                         ModelCheckpoint(path+'best_model_loss.hdf5', monitor='val_loss', save_best_only=True)])"
   ]
  },
  {
   "cell_type": "code",
   "execution_count": 144,
   "metadata": {
    "colab": {
     "base_uri": "https://localhost:8080/",
     "height": 34
    },
    "colab_type": "code",
    "id": "JdgB0GW4QIlg",
    "outputId": "75431c97-4412-4255-fee6-dd0441b0cd1b"
   },
   "outputs": [
    {
     "data": {
      "text/plain": [
       "[1.1139780282974243, 0.6549999952316284]"
      ]
     },
     "execution_count": 144,
     "metadata": {
      "tags": []
     },
     "output_type": "execute_result"
    }
   ],
   "source": [
    "model.evaluate_generator(test_generator)"
   ]
  },
  {
   "cell_type": "code",
   "execution_count": 0,
   "metadata": {
    "colab": {},
    "colab_type": "code",
    "id": "MJE5C7Ft-nz0"
   },
   "outputs": [],
   "source": [
    "model.save_weights(path+'best_model_end.hdf5')"
   ]
  },
  {
   "cell_type": "code",
   "execution_count": 0,
   "metadata": {
    "colab": {},
    "colab_type": "code",
    "id": "hVpxjZw4INOq"
   },
   "outputs": [],
   "source": [
    "model.load_weights(path+'best_model.hdf5')"
   ]
  },
  {
   "cell_type": "code",
   "execution_count": 153,
   "metadata": {
    "colab": {
     "base_uri": "https://localhost:8080/",
     "height": 34
    },
    "colab_type": "code",
    "id": "X2HQtC01P0bZ",
    "outputId": "b9621bdb-9f63-46f2-fb1b-82b4d4c070dd"
   },
   "outputs": [
    {
     "data": {
      "text/plain": [
       "[1.0724298000335692, 0.625]"
      ]
     },
     "execution_count": 153,
     "metadata": {
      "tags": []
     },
     "output_type": "execute_result"
    }
   ],
   "source": [
    "model.evaluate_generator(test_generator)"
   ]
  },
  {
   "cell_type": "code",
   "execution_count": 0,
   "metadata": {
    "colab": {},
    "colab_type": "code",
    "id": "hc7GR05SP1k7"
   },
   "outputs": [],
   "source": [
    "model.load_weights(path+'best_model_loss.hdf5')"
   ]
  },
  {
   "cell_type": "code",
   "execution_count": 155,
   "metadata": {
    "colab": {
     "base_uri": "https://localhost:8080/",
     "height": 34
    },
    "colab_type": "code",
    "id": "goVYOjF_RxWa",
    "outputId": "ceabc505-683c-4df3-a9cb-2c0519912967"
   },
   "outputs": [
    {
     "data": {
      "text/plain": [
       "[1.0724297761917114, 0.625]"
      ]
     },
     "execution_count": 155,
     "metadata": {
      "tags": []
     },
     "output_type": "execute_result"
    }
   ],
   "source": [
    "model.evaluate_generator(test_generator)"
   ]
  },
  {
   "cell_type": "code",
   "execution_count": 0,
   "metadata": {
    "colab": {},
    "colab_type": "code",
    "id": "7f1AO10dUrjL"
   },
   "outputs": [],
   "source": [
    "model.load_weights(path+'best_model_end.hdf5')"
   ]
  },
  {
   "cell_type": "code",
   "execution_count": 157,
   "metadata": {
    "colab": {
     "base_uri": "https://localhost:8080/",
     "height": 68
    },
    "colab_type": "code",
    "id": "u7J4hwuIQr5t",
    "outputId": "8400b378-e873-4757-cf18-d29b1ba7fd85"
   },
   "outputs": [
    {
     "name": "stdout",
     "output_type": "stream",
     "text": [
      "[1.1139780044555665, 0.6550000071525574]\n",
      "[1.1675798773765564, 0.6299999952316284]\n",
      "[1.2570952415466308, 0.6150000095367432]\n"
     ]
    }
   ],
   "source": [
    "acc1 = model.evaluate_generator(test_generator)\n",
    "print(acc1)\n",
    "print(acc2)\n",
    "print(acc3)"
   ]
  },
  {
   "cell_type": "code",
   "execution_count": 161,
   "metadata": {
    "colab": {
     "base_uri": "https://localhost:8080/",
     "height": 266
    },
    "colab_type": "code",
    "id": "-u-VqmHlSbbX",
    "outputId": "c37cb514-522d-4c47-e3a2-5f2a2f4f215a"
   },
   "outputs": [
    {
     "data": {
      "image/png": "[encoded data removed]",
      "text/plain": [
       "<Figure size 432x288 with 1 Axes>"
      ]
     },
     "metadata": {
      "tags": []
     },
     "output_type": "display_data"
    }
   ],
   "source": [
    "names = ['Gray', 'Gist_rainbow', 'Nipy_spectral']\n",
    "acc = [acc1[1], acc2[1], acc3[1]]\n",
    "y_pos = np.arange(3)\n",
    "plt.bar(y_pos, acc)\n",
    "plt.xticks(y_pos, names)\n",
    "for y_v, acc_v in zip(y_pos, acc):\n",
    "  plt.text(y_v, acc_v-0.05, str(np.around(acc_v*100, 2))+'%', horizontalalignment='center', fontsize=15)\n",
    "plt.ylabel('Accuracy')\n",
    "plt.grid(axis='y')\n",
    "plt.savefig(path+'Accuracy.png')"
   ]
  },
  {
   "cell_type": "code",
   "execution_count": 0,
   "metadata": {
    "colab": {},
    "colab_type": "code",
    "id": "M2Aqsc40nbn7"
   },
   "outputs": [],
   "source": []
  }
 ],
 "metadata": {
  "accelerator": "GPU",
  "colab": {
   "name": "Untitled0.ipynb",
   "provenance": []
  },
  "kernelspec": {
   "display_name": "Python 3",
   "language": "python",
   "name": "python3"
  },
  "language_info": {
   "codemirror_mode": {
    "name": "ipython",
    "version": 3
   },
   "file_extension": ".py",
   "mimetype": "text/x-python",
   "name": "python",
   "nbconvert_exporter": "python",
   "pygments_lexer": "ipython3",
   "version": "3.7.3"
  }
 },
 "nbformat": 4,
 "nbformat_minor": 1
}
