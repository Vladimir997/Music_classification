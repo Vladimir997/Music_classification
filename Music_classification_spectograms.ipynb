{
 "cells": [
  {
   "cell_type": "code",
   "execution_count": 26,
   "metadata": {},
   "outputs": [],
   "source": [
    "import matplotlib.pyplot as plt\n",
    "import numpy as np\n",
    "from pathlib import Path\n",
    "import os\n",
    "import librosa\n",
    "import librosa.display"
   ]
  },
  {
   "cell_type": "code",
   "execution_count": 44,
   "metadata": {},
   "outputs": [
    {
     "data": {
      "text/plain": [
       "<Figure size 864x288 with 0 Axes>"
      ]
     },
     "metadata": {},
     "output_type": "display_data"
    }
   ],
   "source": [
    "cmap = plt.get_cmap('nipy_spectral')\n",
    "\n",
    "plt.figure(figsize=(12,4))\n",
    "genres = 'blues classical country disco hiphop jazz metal pop reggae rock'.split()\n",
    "for g in genres:\n",
    "    Path(f'img_data_mel6/train/{g}').mkdir(parents=True, exist_ok=True)\n",
    "    Path(f'img_data_mel6/test/{g}').mkdir(parents=True, exist_ok=True)\n",
    "    for i, filename in enumerate(os.listdir(f'genres/{g}')):\n",
    "        songname = f'genres/{g}/{filename}'\n",
    "        y, sr = librosa.load(songname, mono=True, duration=30)\n",
    "        S = librosa.feature.melspectrogram(y=y, sr=sr)\n",
    "        librosa.display.specshow(librosa.power_to_db(S, ref=np.max), cmap=cmap)\n",
    "        plt.axis('off');\n",
    "        if i<80:\n",
    "            plt.savefig(f'img_data_mel6/train/{g}/{filename[:-4]}.png', bbox_inches='tight', pad_inches=0)\n",
    "        else:\n",
    "            plt.savefig(f'img_data_mel6/test/{g}/{filename[:-4]}.png', bbox_inches='tight', pad_inches=0)\n",
    "        plt.clf()"
   ]
  },
  {
   "cell_type": "code",
   "execution_count": null,
   "metadata": {},
   "outputs": [],
   "source": []
  }
 ],
 "metadata": {
  "kernelspec": {
   "display_name": "Python 3",
   "language": "python",
   "name": "python3"
  },
  "language_info": {
   "codemirror_mode": {
    "name": "ipython",
    "version": 3
   },
   "file_extension": ".py",
   "mimetype": "text/x-python",
   "name": "python",
   "nbconvert_exporter": "python",
   "pygments_lexer": "ipython3",
   "version": "3.7.3"
  }
 },
 "nbformat": 4,
 "nbformat_minor": 2
}
